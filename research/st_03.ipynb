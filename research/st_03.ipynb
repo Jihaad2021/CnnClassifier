{
 "cells": [
  {
   "cell_type": "markdown",
   "metadata": {},
   "source": [
    "## Prepare Callbacks"
   ]
  },
  {
   "cell_type": "markdown",
   "metadata": {},
   "source": [
    "- Like tensorboard "
   ]
  },
  {
   "cell_type": "code",
   "execution_count": 1,
   "metadata": {},
   "outputs": [],
   "source": [
    "import os "
   ]
  },
  {
   "cell_type": "code",
   "execution_count": 2,
   "metadata": {},
   "outputs": [
    {
     "data": {
      "text/plain": [
       "'/Users/jihaad/Documents/2023_Learning/Project/CnnClassifier/research'"
      ]
     },
     "execution_count": 2,
     "metadata": {},
     "output_type": "execute_result"
    }
   ],
   "source": [
    "%pwd"
   ]
  },
  {
   "cell_type": "code",
   "execution_count": 3,
   "metadata": {},
   "outputs": [],
   "source": [
    "os.chdir(\"../\")"
   ]
  },
  {
   "cell_type": "code",
   "execution_count": 4,
   "metadata": {},
   "outputs": [
    {
     "data": {
      "text/plain": [
       "'/Users/jihaad/Documents/2023_Learning/Project/CnnClassifier'"
      ]
     },
     "execution_count": 4,
     "metadata": {},
     "output_type": "execute_result"
    }
   ],
   "source": [
    "%pwd"
   ]
  },
  {
   "cell_type": "markdown",
   "metadata": {},
   "source": [
    "### Entity"
   ]
  },
  {
   "cell_type": "code",
   "execution_count": 5,
   "metadata": {},
   "outputs": [],
   "source": [
    "from dataclasses import dataclass\n",
    "from pathlib import Path  "
   ]
  },
  {
   "cell_type": "code",
   "execution_count": 14,
   "metadata": {},
   "outputs": [],
   "source": [
    "@dataclass(frozen=True)\n",
    "class PrepareCallbacksConfig:\n",
    "    root_dir: Path\n",
    "    tensorboard_root_log_dir: Path\n",
    "    checkpoint_model_filepath: Path\n"
   ]
  },
  {
   "cell_type": "markdown",
   "metadata": {},
   "source": [
    "### Configuration"
   ]
  },
  {
   "cell_type": "code",
   "execution_count": 7,
   "metadata": {},
   "outputs": [],
   "source": [
    "from cnnClassifier.constants import * \n",
    "from cnnClassifier.utils import read_yaml, create_directories"
   ]
  },
  {
   "cell_type": "code",
   "execution_count": 15,
   "metadata": {},
   "outputs": [],
   "source": [
    "class ConfigurationManager:\n",
    "    def __init__(\n",
    "        self, \n",
    "        config_filepath = CONFIG_FILE_PATH,\n",
    "        params_filepath = PARAMS_FILE_PATH):\n",
    "        \n",
    "        self.config = read_yaml(config_filepath)\n",
    "        self.params = read_yaml(params_filepath)\n",
    "        \n",
    "        create_directories([self.config.artifacts_root])\n",
    "\n",
    "    \n",
    "    def get_prepare_callback_config(self) -> PrepareCallbacksConfig:\n",
    "        config = self.config.prepare_callbacks\n",
    "        model_ckpt_dir = os.path.dirname(config.checkpoint_model_filepath)\n",
    "        create_directories([\n",
    "            Path(model_ckpt_dir),\n",
    "            Path(config.tensorboard_root_log_dir)\n",
    "        ])\n",
    "\n",
    "        prepare_callback_config = PrepareCallbacksConfig(\n",
    "            root_dir=Path(config.root_dir),\n",
    "            tensorboard_root_log_dir=Path(config.tensorboard_root_log_dir),\n",
    "            checkpoint_model_filepath=Path(config.checkpoint_model_filepath)\n",
    "        )\n",
    "\n",
    "        return prepare_callback_config\n"
   ]
  },
  {
   "cell_type": "code",
   "execution_count": 9,
   "metadata": {},
   "outputs": [
    {
     "data": {
      "text/plain": [
       "'x/y'"
      ]
     },
     "execution_count": 9,
     "metadata": {},
     "output_type": "execute_result"
    }
   ],
   "source": [
    "# example\n",
    "import os \n",
    "os.path.dirname(\"x/y/z.py\")"
   ]
  },
  {
   "cell_type": "markdown",
   "metadata": {},
   "source": [
    "### Component"
   ]
  },
  {
   "cell_type": "code",
   "execution_count": 10,
   "metadata": {},
   "outputs": [],
   "source": [
    "import os \n",
    "import urllib.request as request\n",
    "from zipfile import ZipFile \n",
    "import tensorflow as tf \n",
    "import time "
   ]
  },
  {
   "cell_type": "code",
   "execution_count": 16,
   "metadata": {},
   "outputs": [],
   "source": [
    "class PrepareCallback:\n",
    "    def __init__(self, config: PrepareCallbacksConfig):\n",
    "        self.config = config\n",
    "\n",
    "    \n",
    "    @property\n",
    "    def _create_tb_callbacks(self):\n",
    "        timestamp = time.strftime(\"%Y-%m-%d-%H-%M-%S\")\n",
    "        tb_running_log_dir = os.path.join(\n",
    "            self.config.tensorboard_root_log_dir,\n",
    "            f\"tb_logs_at_{timestamp}\",\n",
    "        )\n",
    "        return tf.keras.callbacks.TensorBoard(log_dir=tb_running_log_dir)\n",
    "    \n",
    "\n",
    "    @property\n",
    "    def _create_ckpt_callbacks(self):\n",
    "        return tf.keras.callbacks.ModelCheckpoint(\n",
    "            filepath= self.config.checkpoint_model_filepath,\n",
    "            save_best_only=True\n",
    "        )\n",
    "\n",
    "\n",
    "    def get_tb_ckpt_callbacks(self):\n",
    "        return [\n",
    "            self._create_tb_callbacks,\n",
    "            self._create_ckpt_callbacks\n",
    "        ]"
   ]
  },
  {
   "cell_type": "code",
   "execution_count": 12,
   "metadata": {},
   "outputs": [
    {
     "data": {
      "text/plain": [
       "'tb_logs_at_2023-09-28-16-27-18'"
      ]
     },
     "execution_count": 12,
     "metadata": {},
     "output_type": "execute_result"
    }
   ],
   "source": [
    "#example\n",
    "import time\n",
    "timestamp = time.strftime(\"%Y-%m-%d-%H-%M-%S\")\n",
    "f\"tb_logs_at_{timestamp}\""
   ]
  },
  {
   "cell_type": "markdown",
   "metadata": {},
   "source": [
    "### Pipeline"
   ]
  },
  {
   "cell_type": "code",
   "execution_count": 17,
   "metadata": {},
   "outputs": [
    {
     "name": "stdout",
     "output_type": "stream",
     "text": [
      "[2023-09-28 16:28:37,493: INFO: common: yaml file: config/config.yaml loaded succesfully]\n",
      "[2023-09-28 16:28:37,510: INFO: common: yaml file: params.yaml loaded succesfully]\n",
      "[2023-09-28 16:28:37,513: INFO: common: created directory at: artifacts]\n",
      "[2023-09-28 16:28:37,516: INFO: common: created directory at: artifacts/prepare_callbacks/checkpoint_dir]\n",
      "[2023-09-28 16:28:37,519: INFO: common: created directory at: artifacts/prepare_callbacks/tensorboard_log_dir]\n"
     ]
    },
    {
     "ename": "AttributeError",
     "evalue": "'PosixPath' object has no attribute 'endswith'",
     "output_type": "error",
     "traceback": [
      "\u001b[0;31m---------------------------------------------------------------------------\u001b[0m",
      "\u001b[0;31mAttributeError\u001b[0m                            Traceback (most recent call last)",
      "\u001b[1;32m/Users/jihaad/Documents/2023_Learning/Project/CnnClassifier/research/st_03.ipynb Cell 19\u001b[0m line \u001b[0;36m7\n\u001b[1;32m      <a href='vscode-notebook-cell:/Users/jihaad/Documents/2023_Learning/Project/CnnClassifier/research/st_03.ipynb#W1sZmlsZQ%3D%3D?line=4'>5</a>\u001b[0m     callback_list \u001b[39m=\u001b[39m prepare_callbacks\u001b[39m.\u001b[39mget_tb_ckpt_callbacks()\n\u001b[1;32m      <a href='vscode-notebook-cell:/Users/jihaad/Documents/2023_Learning/Project/CnnClassifier/research/st_03.ipynb#W1sZmlsZQ%3D%3D?line=5'>6</a>\u001b[0m \u001b[39mexcept\u001b[39;00m \u001b[39mException\u001b[39;00m \u001b[39mas\u001b[39;00m e:\n\u001b[0;32m----> <a href='vscode-notebook-cell:/Users/jihaad/Documents/2023_Learning/Project/CnnClassifier/research/st_03.ipynb#W1sZmlsZQ%3D%3D?line=6'>7</a>\u001b[0m     \u001b[39mraise\u001b[39;00m e\n",
      "\u001b[1;32m/Users/jihaad/Documents/2023_Learning/Project/CnnClassifier/research/st_03.ipynb Cell 19\u001b[0m line \u001b[0;36m5\n\u001b[1;32m      <a href='vscode-notebook-cell:/Users/jihaad/Documents/2023_Learning/Project/CnnClassifier/research/st_03.ipynb#W1sZmlsZQ%3D%3D?line=2'>3</a>\u001b[0m     prepare_callbacks_config \u001b[39m=\u001b[39m config\u001b[39m.\u001b[39mget_prepare_callback_config()\n\u001b[1;32m      <a href='vscode-notebook-cell:/Users/jihaad/Documents/2023_Learning/Project/CnnClassifier/research/st_03.ipynb#W1sZmlsZQ%3D%3D?line=3'>4</a>\u001b[0m     prepare_callbacks \u001b[39m=\u001b[39m PrepareCallback(config\u001b[39m=\u001b[39mprepare_callbacks_config)\n\u001b[0;32m----> <a href='vscode-notebook-cell:/Users/jihaad/Documents/2023_Learning/Project/CnnClassifier/research/st_03.ipynb#W1sZmlsZQ%3D%3D?line=4'>5</a>\u001b[0m     callback_list \u001b[39m=\u001b[39m prepare_callbacks\u001b[39m.\u001b[39;49mget_tb_ckpt_callbacks()\n\u001b[1;32m      <a href='vscode-notebook-cell:/Users/jihaad/Documents/2023_Learning/Project/CnnClassifier/research/st_03.ipynb#W1sZmlsZQ%3D%3D?line=5'>6</a>\u001b[0m \u001b[39mexcept\u001b[39;00m \u001b[39mException\u001b[39;00m \u001b[39mas\u001b[39;00m e:\n\u001b[1;32m      <a href='vscode-notebook-cell:/Users/jihaad/Documents/2023_Learning/Project/CnnClassifier/research/st_03.ipynb#W1sZmlsZQ%3D%3D?line=6'>7</a>\u001b[0m     \u001b[39mraise\u001b[39;00m e\n",
      "\u001b[1;32m/Users/jihaad/Documents/2023_Learning/Project/CnnClassifier/research/st_03.ipynb Cell 19\u001b[0m line \u001b[0;36m2\n\u001b[1;32m     <a href='vscode-notebook-cell:/Users/jihaad/Documents/2023_Learning/Project/CnnClassifier/research/st_03.ipynb#W1sZmlsZQ%3D%3D?line=23'>24</a>\u001b[0m \u001b[39mdef\u001b[39;00m \u001b[39mget_tb_ckpt_callbacks\u001b[39m(\u001b[39mself\u001b[39m):\n\u001b[1;32m     <a href='vscode-notebook-cell:/Users/jihaad/Documents/2023_Learning/Project/CnnClassifier/research/st_03.ipynb#W1sZmlsZQ%3D%3D?line=24'>25</a>\u001b[0m     \u001b[39mreturn\u001b[39;00m [\n\u001b[1;32m     <a href='vscode-notebook-cell:/Users/jihaad/Documents/2023_Learning/Project/CnnClassifier/research/st_03.ipynb#W1sZmlsZQ%3D%3D?line=25'>26</a>\u001b[0m         \u001b[39mself\u001b[39m\u001b[39m.\u001b[39m_create_tb_callbacks,\n\u001b[0;32m---> <a href='vscode-notebook-cell:/Users/jihaad/Documents/2023_Learning/Project/CnnClassifier/research/st_03.ipynb#W1sZmlsZQ%3D%3D?line=26'>27</a>\u001b[0m         \u001b[39mself\u001b[39;49m\u001b[39m.\u001b[39;49m_create_ckpt_callbacks\n\u001b[1;32m     <a href='vscode-notebook-cell:/Users/jihaad/Documents/2023_Learning/Project/CnnClassifier/research/st_03.ipynb#W1sZmlsZQ%3D%3D?line=27'>28</a>\u001b[0m     ]\n",
      "\u001b[1;32m/Users/jihaad/Documents/2023_Learning/Project/CnnClassifier/research/st_03.ipynb Cell 19\u001b[0m line \u001b[0;36m1\n\u001b[1;32m     <a href='vscode-notebook-cell:/Users/jihaad/Documents/2023_Learning/Project/CnnClassifier/research/st_03.ipynb#W1sZmlsZQ%3D%3D?line=15'>16</a>\u001b[0m \u001b[39m@property\u001b[39m\n\u001b[1;32m     <a href='vscode-notebook-cell:/Users/jihaad/Documents/2023_Learning/Project/CnnClassifier/research/st_03.ipynb#W1sZmlsZQ%3D%3D?line=16'>17</a>\u001b[0m \u001b[39mdef\u001b[39;00m \u001b[39m_create_ckpt_callbacks\u001b[39m(\u001b[39mself\u001b[39m):\n\u001b[0;32m---> <a href='vscode-notebook-cell:/Users/jihaad/Documents/2023_Learning/Project/CnnClassifier/research/st_03.ipynb#W1sZmlsZQ%3D%3D?line=17'>18</a>\u001b[0m     \u001b[39mreturn\u001b[39;00m tf\u001b[39m.\u001b[39;49mkeras\u001b[39m.\u001b[39;49mcallbacks\u001b[39m.\u001b[39;49mModelCheckpoint(\n\u001b[1;32m     <a href='vscode-notebook-cell:/Users/jihaad/Documents/2023_Learning/Project/CnnClassifier/research/st_03.ipynb#W1sZmlsZQ%3D%3D?line=18'>19</a>\u001b[0m         filepath\u001b[39m=\u001b[39;49m \u001b[39mself\u001b[39;49m\u001b[39m.\u001b[39;49mconfig\u001b[39m.\u001b[39;49mcheckpoint_model_filepath,\n\u001b[1;32m     <a href='vscode-notebook-cell:/Users/jihaad/Documents/2023_Learning/Project/CnnClassifier/research/st_03.ipynb#W1sZmlsZQ%3D%3D?line=19'>20</a>\u001b[0m         save_best_only\u001b[39m=\u001b[39;49m\u001b[39mTrue\u001b[39;49;00m\n\u001b[1;32m     <a href='vscode-notebook-cell:/Users/jihaad/Documents/2023_Learning/Project/CnnClassifier/research/st_03.ipynb#W1sZmlsZQ%3D%3D?line=20'>21</a>\u001b[0m     )\n",
      "File \u001b[0;32m/Library/miniconda3/envs/cnncls/lib/python3.8/site-packages/keras/src/callbacks.py:1369\u001b[0m, in \u001b[0;36mModelCheckpoint.__init__\u001b[0;34m(self, filepath, monitor, verbose, save_best_only, save_weights_only, mode, save_freq, options, initial_value_threshold, **kwargs)\u001b[0m\n\u001b[1;32m   1363\u001b[0m         \u001b[39mraise\u001b[39;00m \u001b[39mTypeError\u001b[39;00m(\n\u001b[1;32m   1364\u001b[0m             \u001b[39m\"\u001b[39m\u001b[39mIf save_weights_only is True, then `options` must be \u001b[39m\u001b[39m\"\u001b[39m\n\u001b[1;32m   1365\u001b[0m             \u001b[39m\"\u001b[39m\u001b[39meither None or a tf.train.CheckpointOptions. \u001b[39m\u001b[39m\"\u001b[39m\n\u001b[1;32m   1366\u001b[0m             \u001b[39mf\u001b[39m\u001b[39m\"\u001b[39m\u001b[39mGot \u001b[39m\u001b[39m{\u001b[39;00moptions\u001b[39m}\u001b[39;00m\u001b[39m.\u001b[39m\u001b[39m\"\u001b[39m\n\u001b[1;32m   1367\u001b[0m         )\n\u001b[1;32m   1368\u001b[0m \u001b[39melse\u001b[39;00m:\n\u001b[0;32m-> 1369\u001b[0m     \u001b[39mif\u001b[39;00m filepath \u001b[39mand\u001b[39;00m filepath\u001b[39m.\u001b[39;49mendswith(\u001b[39m\"\u001b[39m\u001b[39m.keras\u001b[39m\u001b[39m\"\u001b[39m) \u001b[39mand\u001b[39;00m options \u001b[39mis\u001b[39;00m \u001b[39mnot\u001b[39;00m \u001b[39mNone\u001b[39;00m:\n\u001b[1;32m   1370\u001b[0m         \u001b[39mraise\u001b[39;00m \u001b[39mValueError\u001b[39;00m(\n\u001b[1;32m   1371\u001b[0m             \u001b[39m\"\u001b[39m\u001b[39mThe native Keras format does not support \u001b[39m\u001b[39m\"\u001b[39m\n\u001b[1;32m   1372\u001b[0m             \u001b[39m\"\u001b[39m\u001b[39mthe `options` argument. Please remove \u001b[39m\u001b[39m\"\u001b[39m\n\u001b[0;32m   (...)\u001b[0m\n\u001b[1;32m   1375\u001b[0m             \u001b[39m\"\u001b[39m\u001b[39mthe model filepath.\u001b[39m\u001b[39m\"\u001b[39m\n\u001b[1;32m   1376\u001b[0m         )\n\u001b[1;32m   1377\u001b[0m     \u001b[39mif\u001b[39;00m options \u001b[39mis\u001b[39;00m \u001b[39mNone\u001b[39;00m \u001b[39mor\u001b[39;00m \u001b[39misinstance\u001b[39m(\n\u001b[1;32m   1378\u001b[0m         options, tf\u001b[39m.\u001b[39msaved_model\u001b[39m.\u001b[39mSaveOptions\n\u001b[1;32m   1379\u001b[0m     ):\n",
      "\u001b[0;31mAttributeError\u001b[0m: 'PosixPath' object has no attribute 'endswith'"
     ]
    }
   ],
   "source": [
    "try:\n",
    "    config = ConfigurationManager()\n",
    "    prepare_callbacks_config = config.get_prepare_callback_config()\n",
    "    prepare_callbacks = PrepareCallback(config=prepare_callbacks_config)\n",
    "    callback_list = prepare_callbacks.get_tb_ckpt_callbacks()\n",
    "except Exception as e:\n",
    "    raise e"
   ]
  },
  {
   "cell_type": "code",
   "execution_count": null,
   "metadata": {},
   "outputs": [],
   "source": []
  }
 ],
 "metadata": {
  "kernelspec": {
   "display_name": "cnncls",
   "language": "python",
   "name": "python3"
  },
  "language_info": {
   "codemirror_mode": {
    "name": "ipython",
    "version": 3
   },
   "file_extension": ".py",
   "mimetype": "text/x-python",
   "name": "python",
   "nbconvert_exporter": "python",
   "pygments_lexer": "ipython3",
   "version": "3.8.0"
  },
  "orig_nbformat": 4
 },
 "nbformat": 4,
 "nbformat_minor": 2
}
